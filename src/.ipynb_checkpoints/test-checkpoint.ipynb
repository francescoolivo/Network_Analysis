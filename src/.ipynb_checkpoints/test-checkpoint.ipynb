{
 "cells": [
  {
   "cell_type": "code",
   "execution_count": 15,
   "id": "initial_id",
   "metadata": {
    "collapsed": true,
    "ExecuteTime": {
     "end_time": "2023-10-24T08:12:50.822095708Z",
     "start_time": "2023-10-24T08:12:50.781344590Z"
    }
   },
   "outputs": [],
   "source": [
    "import networkx as nx\n",
    "import pandas as pd\n",
    "from tqdm import tqdm"
   ]
  },
  {
   "cell_type": "code",
   "execution_count": 33,
   "outputs": [],
   "source": [
    "df = pd.read_csv(\"../dataset/dataset.csv\")"
   ],
   "metadata": {
    "collapsed": false,
    "ExecuteTime": {
     "end_time": "2023-10-24T08:45:32.308948382Z",
     "start_time": "2023-10-24T08:45:32.043022810Z"
    }
   },
   "id": "a29b428dcff4bc84"
  },
  {
   "cell_type": "code",
   "execution_count": 34,
   "outputs": [],
   "source": [
    "G = nx.Graph()"
   ],
   "metadata": {
    "collapsed": false,
    "ExecuteTime": {
     "end_time": "2023-10-24T08:45:32.522137492Z",
     "start_time": "2023-10-24T08:45:32.478148349Z"
    }
   },
   "id": "acf733ff996e9dde"
  },
  {
   "cell_type": "code",
   "execution_count": 46,
   "outputs": [],
   "source": [
    "for actor in df[\"actor\"].unique():\n",
    "    G.add_node(actor)"
   ],
   "metadata": {
    "collapsed": false,
    "ExecuteTime": {
     "end_time": "2023-10-24T08:49:42.350908282Z",
     "start_time": "2023-10-24T08:49:42.248182721Z"
    }
   },
   "id": "3b5334e01cd27a7d"
  },
  {
   "cell_type": "code",
   "execution_count": 53,
   "outputs": [
    {
     "data": {
      "text/plain": "[('Preethi Verma', 'actress'),\n ('Kim Henkel', 'producer'),\n ('Chaitanya Komanduri', 'self'),\n ('Inam Hasan', 'writer'),\n ('John Carpenter', 'self')]"
     },
     "execution_count": 53,
     "metadata": {},
     "output_type": "execute_result"
    }
   ],
   "source": [
    "actor_pairs = df.groupby(\"movie\")[\"actor\"].apply(list)\n",
    "for actors in tqdm(actor_pairs):\n",
    "    for actor1 in actors:\n",
    "        for actor2 in actors:\n",
    "            if actor1 != actor2:\n",
    "                if G.has_edge(actor1, actor2):\n",
    "                    G[actor1][actor2][\"weight\"] += 1\n",
    "                else:\n",
    "                    G.add_edge(actor1, actor2, weight=1)\n"
   ],
   "metadata": {
    "collapsed": false,
    "ExecuteTime": {
     "end_time": "2023-10-24T08:50:25.702249159Z",
     "start_time": "2023-10-24T08:50:25.660984857Z"
    }
   },
   "id": "cd13307b14ddf380"
  },
  {
   "cell_type": "code",
   "execution_count": 55,
   "outputs": [],
   "source": [
    "degree_centrality = nx.degree_centrality(G)\n",
    "sorted_degree_centrality = sorted(degree_centrality.items(), key=lambda x: x[1], reverse=True)\n",
    "print(sorted_degree_centrality[:10])  # Print the top 10 actors by degree centrality\n"
   ],
   "metadata": {
    "collapsed": false,
    "ExecuteTime": {
     "end_time": "2023-10-24T08:50:48.611658998Z",
     "start_time": "2023-10-24T08:50:48.422705894Z"
    }
   },
   "id": "38b98bbc92f8cf99"
  },
  {
   "cell_type": "code",
   "execution_count": 56,
   "outputs": [
    {
     "name": "stderr",
     "output_type": "stream",
     "text": [
      "100%|██████████| 39873/39873 [00:03<00:00, 10099.15it/s]\n"
     ]
    }
   ],
   "source": [],
   "metadata": {
    "collapsed": false,
    "ExecuteTime": {
     "end_time": "2023-10-24T08:51:04.198115757Z",
     "start_time": "2023-10-24T08:50:59.678481651Z"
    }
   },
   "id": "a8dfcbc5a158b038"
  }
 ],
 "metadata": {
  "kernelspec": {
   "display_name": "Python 3",
   "language": "python",
   "name": "python3"
  },
  "language_info": {
   "codemirror_mode": {
    "name": "ipython",
    "version": 2
   },
   "file_extension": ".py",
   "mimetype": "text/x-python",
   "name": "python",
   "nbconvert_exporter": "python",
   "pygments_lexer": "ipython2",
   "version": "2.7.6"
  }
 },
 "nbformat": 4,
 "nbformat_minor": 5
}
